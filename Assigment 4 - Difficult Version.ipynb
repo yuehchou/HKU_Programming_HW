{
 "cells": [
  {
   "cell_type": "markdown",
   "id": "1040d782",
   "metadata": {},
   "source": [
    "## Try to read txt file and separated by space"
   ]
  },
  {
   "cell_type": "code",
   "execution_count": 1,
   "id": "4f956d47",
   "metadata": {},
   "outputs": [
    {
     "name": "stdout",
     "output_type": "stream",
     "text": [
      "['01', '2']\n",
      "['02', '2']\n",
      "['03', '4']\n",
      "['04', '4']\n",
      "['05', '12']\n",
      "['06', '12']\n"
     ]
    }
   ],
   "source": [
    "with open(\"./file1.txt\") as f:\n",
    "    for line in f:\n",
    "        print(line.replace(\"\\n\", \"\").split(' '))"
   ]
  },
  {
   "cell_type": "markdown",
   "id": "f14174ca",
   "metadata": {},
   "source": [
    "## Let's construct dictionary to save table info"
   ]
  },
  {
   "cell_type": "code",
   "execution_count": 2,
   "id": "49f9142f",
   "metadata": {},
   "outputs": [
    {
     "data": {
      "text/plain": [
       "{'Table Number List': ['01', '02', '03', '04', '05', '06'],\n",
       " 'Amount Limit': {'01': 2, '02': 2, '03': 4, '04': 4, '05': 12, '06': 12}}"
      ]
     },
     "execution_count": 2,
     "metadata": {},
     "output_type": "execute_result"
    }
   ],
   "source": [
    "table_info = {}\n",
    "table_info[\"Table Number List\"] = []\n",
    "table_info[\"Amount Limit\"] = {}\n",
    "with open(\"./file1.txt\") as f:\n",
    "    for line in f:\n",
    "        split_list = line.replace(\"\\n\", \"\").split(' ')\n",
    "        table_no = split_list[0]\n",
    "        amount_limit = split_list[1]\n",
    "        table_info[\"Table Number List\"].append(table_no)\n",
    "        table_info[\"Amount Limit\"][table_no] = int(amount_limit)\n",
    "table_info"
   ]
  },
  {
   "cell_type": "markdown",
   "id": "26d98943",
   "metadata": {},
   "source": [
    "---\n",
    "\n",
    "### Step 1. Load tables information from a file\n",
    "\n",
    "Below is the program output for loading data from the input file (Bold red texts are user input):\n",
    "\n",
    "---\n",
    "\n",
    "Table file:\n",
    "\n",
    "<span style=\"color:red\">file1.txt</span>\n",
    "\n",
    "Imported 6 table(s).\n",
    "\n",
    "---"
   ]
  },
  {
   "cell_type": "code",
   "execution_count": 3,
   "id": "e34271cb",
   "metadata": {},
   "outputs": [],
   "source": [
    "def construct_table_info_dict(_file_path: str):\n",
    "    table_info = {}\n",
    "    table_info[\"Table Number List\"] = []\n",
    "    table_info[\"Amount Limit\"] = {}\n",
    "    with open(_file_path) as f:\n",
    "        for line in f:\n",
    "            split_list = line.replace(\"\\n\", \"\").split(' ')\n",
    "            table_no = split_list[0]\n",
    "            amount_limit = split_list[1]\n",
    "            table_info[\"Table Number List\"].append(table_no)\n",
    "            table_info[\"Amount Limit\"][table_no] = int(amount_limit)\n",
    "    return table_info"
   ]
  },
  {
   "cell_type": "code",
   "execution_count": 4,
   "id": "6552ac6b",
   "metadata": {},
   "outputs": [
    {
     "name": "stdout",
     "output_type": "stream",
     "text": [
      "Table file:\n",
      "file1.txt\n",
      "Imported 6 table(s).\n"
     ]
    }
   ],
   "source": [
    "print(\"Table file:\")\n",
    "file_path = input()\n",
    "table_info = construct_table_info_dict(_file_path=file_path)\n",
    "print(f\"Imported {len(table_info['Table Number List'])} table(s).\")"
   ]
  },
  {
   "cell_type": "markdown",
   "id": "1e25b70e",
   "metadata": {},
   "source": [
    "---\n",
    "\n",
    "### Step 2. Exit – terminate the program\n",
    "\n",
    "If the user enters “Exit”, the program prints “Bye” and then terminates.\n",
    "\n",
    "---\n",
    "\n",
    "Table file:\n",
    "\n",
    "<span style=\"color:red\">file1.txt</span>\n",
    "\n",
    "Imported 6 table(s).\n",
    "\n",
    "<span style=\"color:red\">Exit</span>\n",
    "\n",
    "Bye\n",
    "\n",
    "---"
   ]
  },
  {
   "cell_type": "code",
   "execution_count": 5,
   "id": "c514a6bd",
   "metadata": {},
   "outputs": [
    {
     "name": "stdout",
     "output_type": "stream",
     "text": [
      "Table file:\n",
      "file1.txt\n",
      "Imported 6 table(s).\n",
      "Exit\n",
      "Bye\n"
     ]
    }
   ],
   "source": [
    "print(\"Table file:\")\n",
    "file_path = input()\n",
    "table_info = construct_table_info_dict(_file_path=file_path)\n",
    "print(f\"Imported {len(table_info['Table Number List'])} table(s).\")\n",
    "\n",
    "command = input()\n",
    "if command.upper() == \"EXIT\":\n",
    "    print(\"Bye\")"
   ]
  },
  {
   "cell_type": "markdown",
   "id": "6ed998b8",
   "metadata": {},
   "source": [
    "---\n",
    "\n",
    "### Add some error handling"
   ]
  },
  {
   "cell_type": "code",
   "execution_count": 6,
   "id": "0e374b37",
   "metadata": {},
   "outputs": [],
   "source": [
    "import os"
   ]
  },
  {
   "cell_type": "code",
   "execution_count": 7,
   "id": "7d759df2",
   "metadata": {},
   "outputs": [
    {
     "name": "stdout",
     "output_type": "stream",
     "text": [
      "Table file:\n",
      "file1.txt\n",
      "Imported 6 table(s).\n",
      "Book|CK Lai|91234567|01-04-2022|10\n",
      "Wrong command, please enter 'Exit' to close system!\n",
      "Exit\n",
      "Bye\n",
      "Wrong command, please enter 'Exit' to close system!\n"
     ]
    }
   ],
   "source": [
    "print(\"Table file:\")\n",
    "file_path = input()\n",
    "\n",
    "if not os.path.exists(file_path):\n",
    "    print(f\"{file_path} does NOT exist!\")\n",
    "    raise SystemExit\n",
    "\n",
    "table_info = construct_table_info_dict(_file_path=file_path)\n",
    "print(f\"Imported {len(table_info['Table Number List'])} table(s).\")\n",
    "\n",
    "close_system = False\n",
    "while not close_system:\n",
    "    command = input()\n",
    "    if command.upper() == \"EXIT\":\n",
    "        print(\"Bye\")\n",
    "        close_system = True\n",
    "    print(\"Wrong command, please enter 'Exit' to close system!\")"
   ]
  },
  {
   "cell_type": "markdown",
   "id": "5a70ae10",
   "metadata": {},
   "source": [
    "---\n",
    "\n",
    "### Step 3. Book – request a booking\n",
    "\n",
    "In the test case below, 3 bookings are added to the system.\n",
    "\n",
    "---\n",
    "\n",
    "Table file:\n",
    "\n",
    "<span style=\"color:red\">file1.txt</span>\n",
    "\n",
    "Imported 6 table(s).\n",
    "\n",
    "<span style=\"color:red\">Book|CK Lai|91234567|01-04-2022|10</span>\n",
    "\n",
    "Added booking. The ticket code for 01-04-2022 is 1.\n",
    "\n",
    "<span style=\"color:red\">Book|Tom|61234567|01-04-2022|3</span>\n",
    "\n",
    "Added booking. The ticket code for 01-04-2022 is 2.\n",
    "\n",
    "<span style=\"color:red\">Book|Jolly|51234567|02-04-2022|5</span>\n",
    "\n",
    "Added booking. The ticket code for 02-04-2022 is 1.\n",
    "\n",
    "<span style=\"color:red\">Exit</span>\n",
    "\n",
    "Bye\n",
    "\n",
    "---"
   ]
  },
  {
   "cell_type": "code",
   "execution_count": 8,
   "id": "81a145f9",
   "metadata": {},
   "outputs": [],
   "source": [
    "import json "
   ]
  },
  {
   "cell_type": "code",
   "execution_count": 10,
   "id": "227c41a9",
   "metadata": {},
   "outputs": [
    {
     "name": "stdout",
     "output_type": "stream",
     "text": [
      "Enter booking information:\n",
      "Book|CK Lai|91234567|01-04-2022|10\n",
      "Added booking. The ticket code for 01-04-2022 is 1.\n",
      "\n",
      "===\n",
      "\n",
      "{\n",
      "    \"Table Info\": {\n",
      "        \"Table Number List\": [\n",
      "            \"01\",\n",
      "            \"02\",\n",
      "            \"03\",\n",
      "            \"04\",\n",
      "            \"05\",\n",
      "            \"06\"\n",
      "        ],\n",
      "        \"Amount Limit\": {\n",
      "            \"01\": 2,\n",
      "            \"02\": 2,\n",
      "            \"03\": 4,\n",
      "            \"04\": 4,\n",
      "            \"05\": 12,\n",
      "            \"06\": 12\n",
      "        }\n",
      "    },\n",
      "    \"Booking Queue\": {\n",
      "        \"Date Queue List\": {\n",
      "            \"01-04-2022\": [\n",
      "                \"CK Lai\"\n",
      "            ]\n",
      "        },\n",
      "        \"CK Lai\": {\n",
      "            \"Phone\": \"91234567\",\n",
      "            \"Booking Date List\": [\n",
      "                \"01-04-2022\"\n",
      "            ],\n",
      "            \"Booking Amount\": {\n",
      "                \"01-04-2022\": 10\n",
      "            }\n",
      "        }\n",
      "    }\n",
      "}\n"
     ]
    }
   ],
   "source": [
    "BookingSystemData = {}\n",
    "BookingSystemData[\"Table Info\"] = table_info\n",
    "BookingSystemData[\"Booking Queue\"] = {}\n",
    "BookingSystemData[\"Booking Queue\"][\"Date Queue List\"] = {}\n",
    "\n",
    "print(\"Enter booking information:\")\n",
    "client_booking_info = input()\n",
    "client_info_split_list = client_booking_info.split(\"|\")\n",
    "if client_info_split_list[0] == \"Book\":\n",
    "    client_name = client_info_split_list[1]\n",
    "    phone_number = client_info_split_list[2]\n",
    "    booking_date = client_info_split_list[3]\n",
    "    booking_amount = int(client_info_split_list[4])\n",
    "    if booking_date not in BookingSystemData[\"Booking Queue\"][\"Date Queue List\"]:\n",
    "        BookingSystemData[\"Booking Queue\"][\"Date Queue List\"][booking_date] = [client_name]\n",
    "    else:\n",
    "        BookingSystemData[\"Booking Queue\"][\"Date Queue List\"][booking_date].append(client_name)\n",
    "    if client_name not in BookingSystemData[\"Booking Queue\"]:\n",
    "        BookingSystemData[\"Booking Queue\"][client_name] = {\n",
    "            \"Phone\": phone_number,\n",
    "            \"Booking Date List\": [booking_date],\n",
    "            \"Booking Amount\": {booking_date: booking_amount}\n",
    "        }\n",
    "    else:\n",
    "        BookingSystemData[\"Booking Queue\"][client_name][\"Booking Date List\"].append(booking_date)\n",
    "        BookingSystemData[\"Booking Queue\"][client_name][\"Booking Amount\"][booking_date] = booking_amount\n",
    "    queue_no = BookingSystemData[\"Booking Queue\"][\"Date Queue List\"][booking_date].index(client_name)+1\n",
    "    print(f\"Added booking. The ticket code for {booking_date} is {queue_no}.\")\n",
    "print(\"\\n===\\n\")\n",
    "print(json.dumps(BookingSystemData, indent=4))"
   ]
  },
  {
   "cell_type": "code",
   "execution_count": 11,
   "id": "dcdd09c6",
   "metadata": {},
   "outputs": [],
   "source": [
    "def add_booking_info(\n",
    "    _booking_system_data: dict,\n",
    "    _client_booking_info: str\n",
    "):\n",
    "    if \"Booking Queue\" not in _booking_system_data:\n",
    "        _booking_system_data[\"Booking Queue\"] = {}\n",
    "        _booking_system_data[\"Booking Queue\"][\"Date Queue List\"] = {}\n",
    "\n",
    "    client_info_split_list = _client_booking_info.split(\"|\")\n",
    "    \n",
    "    if client_info_split_list[0] == \"Book\":\n",
    "        client_name = client_info_split_list[1]\n",
    "        phone_number = client_info_split_list[2]\n",
    "        booking_date = client_info_split_list[3]\n",
    "        booking_amount = int(client_info_split_list[4])\n",
    "    \n",
    "        if booking_date not in _booking_system_data[\"Booking Queue\"][\"Date Queue List\"]:\n",
    "            _booking_system_data[\"Booking Queue\"][\"Date Queue List\"][booking_date] = [client_name]\n",
    "        else:\n",
    "            _booking_system_data[\"Booking Queue\"][\"Date Queue List\"][booking_date].append(client_name)\n",
    "    \n",
    "        if client_name not in _booking_system_data[\"Booking Queue\"]:\n",
    "            _booking_system_data[\"Booking Queue\"][client_name] = {\n",
    "                \"Phone\": phone_number,\n",
    "                \"Booking Date List\": [booking_date],\n",
    "                \"Booking Amount\": {booking_date: booking_amount}\n",
    "            }\n",
    "            print()\n",
    "        else:\n",
    "            _booking_system_data[\"Booking Queue\"][client_name][\"Booking Date List\"].append(booking_date)\n",
    "            _booking_system_data[\"Booking Queue\"][client_name][\"Booking Amount\"][booking_date] = booking_amount\n",
    "        queue_no = _booking_system_data[\"Booking Queue\"][\"Date Queue List\"][booking_date].index(client_name)+1\n",
    "        print(f\"Added booking. The ticket code for {booking_date} is {queue_no}.\")"
   ]
  },
  {
   "cell_type": "code",
   "execution_count": 12,
   "id": "2cfbac20",
   "metadata": {},
   "outputs": [],
   "source": [
    "import os\n",
    "import json"
   ]
  },
  {
   "cell_type": "code",
   "execution_count": 13,
   "id": "a516ff39",
   "metadata": {},
   "outputs": [
    {
     "name": "stdout",
     "output_type": "stream",
     "text": [
      "Table file:\n",
      "file1.txt\n",
      "Imported 6 table(s).\n",
      "Enter booking information:\n",
      "Book|CK Lai|91234567|01-04-2022|10\n",
      "\n",
      "Added booking. The ticket code for 01-04-2022 is 1.\n",
      "Enter booking information:\n",
      "Book|Tom|61234567|01-04-2022|3\n",
      "\n",
      "Added booking. The ticket code for 01-04-2022 is 2.\n",
      "Enter booking information:\n",
      "Book|Jolly|51234567|02-04-2022|5\n",
      "\n",
      "Added booking. The ticket code for 02-04-2022 is 1.\n",
      "Enter booking information:\n",
      "Exit\n",
      "Bye\n"
     ]
    }
   ],
   "source": [
    "print(\"Table file:\")\n",
    "file_path = input()\n",
    "\n",
    "if not os.path.exists(file_path):\n",
    "    print(f\"{file_path} does NOT exist!\")\n",
    "    raise SystemExit\n",
    "\n",
    "table_info = construct_table_info_dict(_file_path=file_path)\n",
    "print(f\"Imported {len(table_info['Table Number List'])} table(s).\")\n",
    "\n",
    "BookingSystemData = {}\n",
    "BookingSystemData[\"Table Info\"] = table_info\n",
    "\n",
    "close_system = False\n",
    "while not close_system:\n",
    "    print(\"Enter booking information:\") # Can be removed\n",
    "    client_booking_info = input()\n",
    "    \n",
    "    if client_booking_info.upper() == \"EXIT\":\n",
    "        print(\"Bye\")\n",
    "        close_system = True\n",
    "    else:\n",
    "        add_booking_info(\n",
    "            _booking_system_data=BookingSystemData,\n",
    "            _client_booking_info=client_booking_info\n",
    "        )"
   ]
  },
  {
   "cell_type": "code",
   "execution_count": 14,
   "id": "2094e258",
   "metadata": {},
   "outputs": [
    {
     "name": "stdout",
     "output_type": "stream",
     "text": [
      "{\n",
      "    \"Table Info\": {\n",
      "        \"Table Number List\": [\n",
      "            \"01\",\n",
      "            \"02\",\n",
      "            \"03\",\n",
      "            \"04\",\n",
      "            \"05\",\n",
      "            \"06\"\n",
      "        ],\n",
      "        \"Amount Limit\": {\n",
      "            \"01\": 2,\n",
      "            \"02\": 2,\n",
      "            \"03\": 4,\n",
      "            \"04\": 4,\n",
      "            \"05\": 12,\n",
      "            \"06\": 12\n",
      "        }\n",
      "    },\n",
      "    \"Booking Queue\": {\n",
      "        \"Date Queue List\": {\n",
      "            \"01-04-2022\": [\n",
      "                \"CK Lai\",\n",
      "                \"Tom\"\n",
      "            ],\n",
      "            \"02-04-2022\": [\n",
      "                \"Jolly\"\n",
      "            ]\n",
      "        },\n",
      "        \"CK Lai\": {\n",
      "            \"Phone\": \"91234567\",\n",
      "            \"Booking Date List\": [\n",
      "                \"01-04-2022\"\n",
      "            ],\n",
      "            \"Booking Amount\": {\n",
      "                \"01-04-2022\": 10\n",
      "            }\n",
      "        },\n",
      "        \"Tom\": {\n",
      "            \"Phone\": \"61234567\",\n",
      "            \"Booking Date List\": [\n",
      "                \"01-04-2022\"\n",
      "            ],\n",
      "            \"Booking Amount\": {\n",
      "                \"01-04-2022\": 3\n",
      "            }\n",
      "        },\n",
      "        \"Jolly\": {\n",
      "            \"Phone\": \"51234567\",\n",
      "            \"Booking Date List\": [\n",
      "                \"02-04-2022\"\n",
      "            ],\n",
      "            \"Booking Amount\": {\n",
      "                \"02-04-2022\": 5\n",
      "            }\n",
      "        }\n",
      "    }\n",
      "}\n"
     ]
    }
   ],
   "source": [
    "print(json.dumps(BookingSystemData, indent=4))"
   ]
  },
  {
   "cell_type": "markdown",
   "id": "1980be15",
   "metadata": {},
   "source": [
    "---\n",
    "\n",
    "### Step 4. ListBookings\n",
    "\n",
    "Upon completion, the system goes back to the main menu.\n",
    "\n",
    "---\n",
    "\n",
    "Table file:\n",
    "\n",
    "<span style=\"color:red\">file1.txt</span>\n",
    "\n",
    "Imported 6 table(s).\n",
    "\n",
    "<span style=\"color:red\">Book|HF|81234567|01-04-2022|5</span>\n",
    "\n",
    "Added booking. The ticket code for 01-04-2022 is 1.\n",
    "\n",
    "<span style=\"color:red\">Book|Liu|21234567|01-04-2022|2</span>\n",
    "\n",
    "Added booking. The ticket code for 01-04-2022 is 2.\n",
    "\n",
    "<span style=\"color:red\">ListBookings</span>\n",
    "\n",
    "Booking(s):\n",
    "\n",
    "HF, 81234567, 01-04-2022 (Ticket 1), 5, Pending.\n",
    "\n",
    "Liu, 21234567, 01-04-2022 (Ticket 2), 2, Pending.\n",
    "\n",
    "<span style=\"color:red\">Exit</span>\n",
    "\n",
    "Bye\n",
    "\n",
    "---"
   ]
  },
  {
   "cell_type": "code",
   "execution_count": 15,
   "id": "cd72a249",
   "metadata": {},
   "outputs": [
    {
     "data": {
      "text/plain": [
       "dict_keys(['Date Queue List', 'CK Lai', 'Tom', 'Jolly'])"
      ]
     },
     "execution_count": 15,
     "metadata": {},
     "output_type": "execute_result"
    }
   ],
   "source": [
    "BookingSystemData[\"Booking Queue\"].keys()"
   ]
  },
  {
   "cell_type": "code",
   "execution_count": 16,
   "id": "69e68d07",
   "metadata": {},
   "outputs": [
    {
     "name": "stdout",
     "output_type": "stream",
     "text": [
      "Name: CK Lai\n",
      "Phone: 91234567\n",
      "All booking dates: ['01-04-2022']\n",
      "Booking date: 01-04-2022\n",
      "Queue number: 1\n",
      "Booking amount: 10\n"
     ]
    }
   ],
   "source": [
    "booking_client_list = list(BookingSystemData[\"Booking Queue\"].keys())\n",
    "booking_client_list.remove(\"Date Queue List\")\n",
    "\n",
    "# Get client's name\n",
    "client_name = booking_client_list[0]\n",
    "print(\"Name:\", client_name)\n",
    "\n",
    "# Get client's phone\n",
    "print(\"Phone:\", BookingSystemData[\"Booking Queue\"][client_name][\"Phone\"])\n",
    "\n",
    "# Get client's booking date\n",
    "print(\"All booking dates:\", BookingSystemData[\"Booking Queue\"][client_name][\"Booking Date List\"])\n",
    "booking_date = BookingSystemData[\"Booking Queue\"][client_name][\"Booking Date List\"][0]\n",
    "print(\"Booking date:\", booking_date)\n",
    "\n",
    "# Get client's queue number\n",
    "print(\"Queue number:\", BookingSystemData[\"Booking Queue\"][\"Date Queue List\"][booking_date].index(client_name)+1)\n",
    "\n",
    "# Get client's booking amount\n",
    "print(\"Booking amount:\", BookingSystemData[\"Booking Queue\"][client_name][\"Booking Amount\"][booking_date])"
   ]
  },
  {
   "cell_type": "code",
   "execution_count": 17,
   "id": "97b1df71",
   "metadata": {},
   "outputs": [],
   "source": [
    "def list_bookings(_booking_sysem_data: dict):\n",
    "    \n",
    "    if \"Booking Queue\" not in _booking_sysem_data:\n",
    "        print(\"No booking.\")\n",
    "        return\n",
    "    \n",
    "    if len(_booking_sysem_data[\"Booking Queue\"]) < 2:\n",
    "        print(\"No booking.\")\n",
    "        return\n",
    "    \n",
    "    booking_client_list = list(_booking_sysem_data[\"Booking Queue\"].keys())\n",
    "    booking_client_list.remove(\"Date Queue List\")\n",
    "\n",
    "    # Get client's name\n",
    "    for i in range(len(booking_client_list)):\n",
    "        client_name = booking_client_list[i]\n",
    "\n",
    "        # Get client's phone\n",
    "        phone = _booking_sysem_data[\"Booking Queue\"][client_name][\"Phone\"]\n",
    "\n",
    "        # Get client's booking date\n",
    "        all_booking_date_list = _booking_sysem_data[\"Booking Queue\"][client_name][\"Booking Date List\"]\n",
    "        booking_date = all_booking_date_list[0]\n",
    "\n",
    "        # Get client's queue number\n",
    "        queue_number = _booking_sysem_data[\"Booking Queue\"][\"Date Queue List\"][booking_date].index(client_name)+1\n",
    "\n",
    "        # Get client's booking amount\n",
    "        booking_amount = _booking_sysem_data[\"Booking Queue\"][client_name][\"Booking Amount\"][booking_date]\n",
    "\n",
    "        print(f\"{client_name}, {phone}, {booking_date} (Ticket {queue_number}), {booking_amount}, Pending.\")"
   ]
  },
  {
   "cell_type": "code",
   "execution_count": 18,
   "id": "c2ae2aa8",
   "metadata": {},
   "outputs": [
    {
     "name": "stdout",
     "output_type": "stream",
     "text": [
      "Table file:\n",
      "file1.txt\n",
      "Imported 6 table(s).\n",
      "ListBookings\n",
      "No booking.\n",
      "Book|HF|81234567|01-04-2022|5\n",
      "\n",
      "Added booking. The ticket code for 01-04-2022 is 1.\n",
      "Book|Liu|21234567|01-04-2022|2\n",
      "\n",
      "Added booking. The ticket code for 01-04-2022 is 2.\n",
      "ListBookings\n",
      "HF, 81234567, 01-04-2022 (Ticket 1), 5, Pending.\n",
      "Liu, 21234567, 01-04-2022 (Ticket 2), 2, Pending.\n",
      "Exit\n",
      "Bye\n"
     ]
    }
   ],
   "source": [
    "print(\"Table file:\")\n",
    "file_path = input()\n",
    "\n",
    "if not os.path.exists(file_path):\n",
    "    print(f\"{file_path} does NOT exist!\")\n",
    "    raise SystemExit\n",
    "\n",
    "table_info = construct_table_info_dict(_file_path=file_path)\n",
    "print(f\"Imported {len(table_info['Table Number List'])} table(s).\")\n",
    "\n",
    "BookingSystemData = {}\n",
    "BookingSystemData[\"Table Info\"] = table_info\n",
    "\n",
    "close_system = False\n",
    "while not close_system:\n",
    "    command = input()\n",
    "    \n",
    "    if command.upper() == \"EXIT\":\n",
    "        print(\"Bye\")\n",
    "        close_system = True\n",
    "    elif \"BOOK|\" in command.upper():\n",
    "        add_booking_info(\n",
    "            _booking_system_data=BookingSystemData,\n",
    "            _client_booking_info=command\n",
    "        )\n",
    "    elif command.lower() == \"listbookings\":\n",
    "        list_bookings(_booking_sysem_data=BookingSystemData)"
   ]
  },
  {
   "cell_type": "markdown",
   "id": "9aba68f2",
   "metadata": {},
   "source": [
    "## TBA"
   ]
  }
 ],
 "metadata": {
  "kernelspec": {
   "display_name": "Python 3 (ipykernel)",
   "language": "python",
   "name": "python3"
  },
  "language_info": {
   "codemirror_mode": {
    "name": "ipython",
    "version": 3
   },
   "file_extension": ".py",
   "mimetype": "text/x-python",
   "name": "python",
   "nbconvert_exporter": "python",
   "pygments_lexer": "ipython3",
   "version": "3.9.7"
  }
 },
 "nbformat": 4,
 "nbformat_minor": 5
}
